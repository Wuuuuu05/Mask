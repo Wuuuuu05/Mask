{
  "nbformat": 4,
  "nbformat_minor": 0,
  "metadata": {
    "colab": {
      "provenance": [],
      "authorship_tag": "ABX9TyN3j0vPd+4Q8DzCLK4gGTKB",
      "include_colab_link": true
    },
    "kernelspec": {
      "name": "python3",
      "display_name": "Python 3"
    },
    "language_info": {
      "name": "python"
    }
  },
  "cells": [
    {
      "cell_type": "markdown",
      "metadata": {
        "id": "view-in-github",
        "colab_type": "text"
      },
      "source": [
        "<a href=\"https://colab.research.google.com/github/Wuuuuu05/Mask/blob/main/Mask.ipynb\" target=\"_parent\"><img src=\"https://colab.research.google.com/assets/colab-badge.svg\" alt=\"Open In Colab\"/></a>"
      ]
    },
    {
      "cell_type": "code",
      "source": [
        "import requests\n",
        "import json\n",
        "url = \"https://raw.githubusercontent.com/kiang/pharmacies/master/json/points.json\"\n",
        "response = requests.get(url)\n",
        "response_text = response.text\n",
        "data = json.loads(response_text)\n",
        "\n",
        "med_count = {}\n",
        "for d in data['features']:\n",
        "    conunty = d['properties']['county']\n",
        "    if conunty not in med_count:\n",
        "      med_count[conunty] = 1\n",
        "    else:\n",
        "      med_count[conunty] += 1\n",
        "print(med_count)\n",
        "\n",
        "mask_count = {}\n",
        "for d in data['features']:\n",
        "    conunty = d['properties']['county']\n",
        "    adult = d['properties']['mask_adult']\n",
        "    if conunty not in mask_count:\n",
        "      mask_count[conunty] = 0\n",
        "    else:\n",
        "      mask_count[conunty] += adult\n",
        "mask_count = dict(sorted(mask_count.items(), key=lambda item: item[1]))\n",
        "\n",
        "print(mask_count)"
      ],
      "metadata": {
        "colab": {
          "base_uri": "https://localhost:8080/"
        },
        "id": "Ed7VqocJvwqG",
        "outputId": "11dabe11-287d-431b-9334-c324765b12a7"
      },
      "execution_count": 9,
      "outputs": [
        {
          "output_type": "stream",
          "name": "stdout",
          "text": [
            "{'臺北市': 339, '': 49, '高雄市': 422, '臺中市': 420, '臺南市': 271, '基隆市': 57, '新竹市': 39, '嘉義市': 67, '新北市': 501, '桃園市': 264, '新竹縣': 46, '宜蘭縣': 76, '苗栗縣': 56, '彰化縣': 179, '南投縣': 67, '雲林縣': 129, '嘉義縣': 84, '屏東縣': 140, '澎湖縣': 11, '花蓮縣': 46, '臺東縣': 23, '金門縣': 6, '連江縣': 1}\n",
            "{'連江縣': 0, '澎湖縣': 11350, '金門縣': 15510, '臺東縣': 27720, '新竹市': 45630, '新竹縣': 51280, '花蓮縣': 56570, '': 68040, '基隆市': 79840, '南投縣': 81680, '宜蘭縣': 105830, '嘉義市': 105870, '嘉義縣': 112190, '苗栗縣': 119500, '屏東縣': 181480, '雲林縣': 195540, '彰化縣': 218090, '臺北市': 322490, '桃園市': 330010, '臺南市': 392430, '高雄市': 424170, '臺中市': 535430, '新北市': 670150}\n"
          ]
        }
      ]
    }
  ]
}