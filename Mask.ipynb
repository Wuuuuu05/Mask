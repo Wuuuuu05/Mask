{
  "nbformat": 4,
  "nbformat_minor": 0,
  "metadata": {
    "colab": {
      "provenance": [],
      "authorship_tag": "ABX9TyNpoRWoZ2yY3Y3ALdBAFXP5",
      "include_colab_link": true
    },
    "kernelspec": {
      "name": "python3",
      "display_name": "Python 3"
    },
    "language_info": {
      "name": "python"
    }
  },
  "cells": [
    {
      "cell_type": "markdown",
      "metadata": {
        "id": "view-in-github",
        "colab_type": "text"
      },
      "source": [
        "<a href=\"https://colab.research.google.com/github/Wuuuuu05/Mask/blob/main/Mask.ipynb\" target=\"_parent\"><img src=\"https://colab.research.google.com/assets/colab-badge.svg\" alt=\"Open In Colab\"/></a>"
      ]
    },
    {
      "cell_type": "code",
      "source": [
        "import requests\n",
        "import json\n",
        "url = https://raw.githubusercontent.com/kiang/pharmacies/master/json/points.json\n",
        "response = request.get(url)\n",
        "d = response.text\n",
        "data = json.loads(d)\n",
        "print(data)\n",
        "\n",
        "med_count = {}\n",
        "for d in data['features']:\n",
        "    conunty = d['properties']['county']\n",
        "    if conunty not in med_count:\n",
        "      med_count[conunty] = 1\n",
        "    else:\n",
        "      med_count[conunty] += 1\n",
        "print(med_count)"
      ],
      "metadata": {
        "id": "Ed7VqocJvwqG"
      },
      "execution_count": null,
      "outputs": []
    }
  ]
}