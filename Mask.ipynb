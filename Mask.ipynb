{
  "nbformat": 4,
  "nbformat_minor": 0,
  "metadata": {
    "colab": {
      "provenance": [],
      "authorship_tag": "ABX9TyNt6xnOHqe6ckcu2KphJzRP",
      "include_colab_link": true
    },
    "kernelspec": {
      "name": "python3",
      "display_name": "Python 3"
    },
    "language_info": {
      "name": "python"
    }
  },
  "cells": [
    {
      "cell_type": "markdown",
      "metadata": {
        "id": "view-in-github",
        "colab_type": "text"
      },
      "source": [
        "<a href=\"https://colab.research.google.com/github/Wuuuuu05/Mask/blob/main/Mask.ipynb\" target=\"_parent\"><img src=\"https://colab.research.google.com/assets/colab-badge.svg\" alt=\"Open In Colab\"/></a>"
      ]
    },
    {
      "cell_type": "code",
      "source": [
        "import requests\n",
        "import json\n",
        "import sqlite3\n",
        "import datetime\n",
        "\n",
        "# 利用 requests 對 API 來源發送一個請求\n",
        "url = \"https://raw.githubusercontent.com/kiang/pharmacies/master/json/points.json\"\n",
        "response = requests.get(url)\n",
        "# 將請求回應的內容存成一個字串格式\n",
        "response_text = response.text\n",
        "# 將長得像 json 格式的字串解析成字典或列表\n",
        "data = json.loads(response_text)\n",
        "\n",
        "med_count = {}\n",
        "for d in data['features']:\n",
        "    conunty = d['properties']['county']\n",
        "    if conunty not in med_count:\n",
        "      med_count[conunty] = 1\n",
        "    else:\n",
        "      med_count[conunty] += 1\n",
        "print(med_count)\n",
        "\n",
        "mask_count = {}\n",
        "for d in data['features']:\n",
        "    conunty = d['properties']['county']\n",
        "    adult = d['properties']['mask_adult']\n",
        "    if conunty not in mask_count:\n",
        "      mask_count[conunty] = 0\n",
        "    else:\n",
        "      mask_count[conunty] += adult\n",
        "# 將結果從大到小排列\n",
        "mask_count = dict(sorted(mask_count.items(), key=lambda item: item[1]))\n",
        "print(mask_count)\n",
        "\n",
        "\n",
        "conn = sqlite3.connect('example.db')\n",
        "c = conn.cursor()\n",
        "\n",
        "# 新增且清空資料表\n",
        "c.execute('''CREATE TABLE IF NOT EXISTS pharmacies\n",
        "             (city text, counts text, createdAt datetime)''')\n",
        "c.execute('''DELETE FROM pharmacies''')\n",
        "conn.commit()\n",
        "\n",
        "for city,counts in med_count.items():\n",
        "  t = datetime.datetime.now()\n",
        "  c.execute(f\"INSERT INTO pharmacies VALUES ('{city}', {counts}, '{t}')\")\n",
        "  conn.commit()\n",
        "\n",
        "# 查詢資料\n",
        "c.execute(\"SELECT * FROM pharmacies\")\n",
        "print(c.fetchall())\n",
        "\n",
        "conn.commit()\n",
        "conn.close()\n",
        "\n",
        "conn = sqlite3.connect('example.db')\n",
        "c = conn.cursor()\n",
        "\n",
        "# 新增且清空資料表\n",
        "c.execute('''CREATE TABLE IF NOT EXISTS masks\n",
        "             (city text, mcounts text, createdAt datetime)''')\n",
        "c.execute('''DELETE FROM masks''')\n",
        "conn.commit()\n",
        "\n",
        "for city,counts in mask_count.items():\n",
        "  t = datetime.datetime.now()\n",
        "  c.execute(f\"INSERT INTO masks VALUES ('{city}', {counts}, '{t}')\")\n",
        "  conn.commit()\n",
        "\n",
        "# 查詢資料\n",
        "c.execute(\"SELECT * FROM masks\")\n",
        "print(c.fetchall())\n",
        "\n",
        "conn.commit()\n",
        "conn.close()"
      ],
      "metadata": {
        "colab": {
          "base_uri": "https://localhost:8080/"
        },
        "id": "Ed7VqocJvwqG",
        "outputId": "773286a7-13d2-4e13-b814-daba699cf4e9"
      },
      "execution_count": 5,
      "outputs": [
        {
          "output_type": "stream",
          "name": "stdout",
          "text": [
            "{'臺北市': 339, '': 49, '高雄市': 422, '臺中市': 420, '臺南市': 271, '基隆市': 57, '新竹市': 39, '嘉義市': 67, '新北市': 501, '桃園市': 264, '新竹縣': 46, '宜蘭縣': 76, '苗栗縣': 56, '彰化縣': 179, '南投縣': 67, '雲林縣': 129, '嘉義縣': 84, '屏東縣': 140, '澎湖縣': 11, '花蓮縣': 46, '臺東縣': 23, '金門縣': 6, '連江縣': 1}\n",
            "{'連江縣': 0, '澎湖縣': 11350, '金門縣': 15510, '臺東縣': 27720, '新竹市': 45630, '新竹縣': 51280, '花蓮縣': 56570, '': 68040, '基隆市': 79840, '南投縣': 81680, '宜蘭縣': 105830, '嘉義市': 105870, '嘉義縣': 112190, '苗栗縣': 119500, '屏東縣': 181480, '雲林縣': 195540, '彰化縣': 218090, '臺北市': 322490, '桃園市': 330010, '臺南市': 392430, '高雄市': 424170, '臺中市': 535430, '新北市': 670150}\n",
            "[('臺北市', '339', '2023-04-10 18:27:02.054890'), ('', '49', '2023-04-10 18:27:02.061277'), ('高雄市', '422', '2023-04-10 18:27:02.067862'), ('臺中市', '420', '2023-04-10 18:27:02.074439'), ('臺南市', '271', '2023-04-10 18:27:02.080705'), ('基隆市', '57', '2023-04-10 18:27:02.086926'), ('新竹市', '39', '2023-04-10 18:27:02.093279'), ('嘉義市', '67', '2023-04-10 18:27:02.100128'), ('新北市', '501', '2023-04-10 18:27:02.106379'), ('桃園市', '264', '2023-04-10 18:27:02.112785'), ('新竹縣', '46', '2023-04-10 18:27:02.118931'), ('宜蘭縣', '76', '2023-04-10 18:27:02.125410'), ('苗栗縣', '56', '2023-04-10 18:27:02.132049'), ('彰化縣', '179', '2023-04-10 18:27:02.138189'), ('南投縣', '67', '2023-04-10 18:27:02.144337'), ('雲林縣', '129', '2023-04-10 18:27:02.150325'), ('嘉義縣', '84', '2023-04-10 18:27:02.157001'), ('屏東縣', '140', '2023-04-10 18:27:02.163280'), ('澎湖縣', '11', '2023-04-10 18:27:02.170086'), ('花蓮縣', '46', '2023-04-10 18:27:02.176243'), ('臺東縣', '23', '2023-04-10 18:27:02.182507'), ('金門縣', '6', '2023-04-10 18:27:02.190046'), ('連江縣', '1', '2023-04-10 18:27:02.196703')]\n",
            "[('連江縣', '0', '2023-04-10 18:27:02.220331'), ('澎湖縣', '11350', '2023-04-10 18:27:02.227237'), ('金門縣', '15510', '2023-04-10 18:27:02.233783'), ('臺東縣', '27720', '2023-04-10 18:27:02.240429'), ('新竹市', '45630', '2023-04-10 18:27:02.250814'), ('新竹縣', '51280', '2023-04-10 18:27:02.257425'), ('花蓮縣', '56570', '2023-04-10 18:27:02.263767'), ('', '68040', '2023-04-10 18:27:02.270616'), ('基隆市', '79840', '2023-04-10 18:27:02.277299'), ('南投縣', '81680', '2023-04-10 18:27:02.283988'), ('宜蘭縣', '105830', '2023-04-10 18:27:02.290257'), ('嘉義市', '105870', '2023-04-10 18:27:02.296550'), ('嘉義縣', '112190', '2023-04-10 18:27:02.304529'), ('苗栗縣', '119500', '2023-04-10 18:27:02.310570'), ('屏東縣', '181480', '2023-04-10 18:27:02.317388'), ('雲林縣', '195540', '2023-04-10 18:27:02.323403'), ('彰化縣', '218090', '2023-04-10 18:27:02.329952'), ('臺北市', '322490', '2023-04-10 18:27:02.336528'), ('桃園市', '330010', '2023-04-10 18:27:02.342711'), ('臺南市', '392430', '2023-04-10 18:27:02.348808'), ('高雄市', '424170', '2023-04-10 18:27:02.355975'), ('臺中市', '535430', '2023-04-10 18:27:02.362804'), ('新北市', '670150', '2023-04-10 18:27:02.369123')]\n"
          ]
        }
      ]
    }
  ]
}